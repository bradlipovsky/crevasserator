{
 "cells": [
  {
   "cell_type": "code",
   "execution_count": 37,
   "metadata": {},
   "outputs": [],
   "source": [
    "from numpy import sinh, sqrt, fmin, tanh, linspace, logspace,array,pi\n",
    "from scipy.optimize import minimize"
   ]
  },
  {
   "cell_type": "code",
   "execution_count": 38,
   "metadata": {},
   "outputs": [],
   "source": [
    "def sgw_disp(k):\n",
    "    '''\n",
    "    Given k, return omega for sgws\n",
    "    '''\n",
    "    omega = sqrt(g*k*tanh(k*H))\n",
    "    return omega\n",
    "\n",
    "def fgw_disp(k):\n",
    "    '''\n",
    "    Given k, return omega for fgws\n",
    "    '''\n",
    "    omega = sqrt((L*k**4 + rho*g)/(rho/tanh(k*H)/k + m))\n",
    "    return omega\n",
    "\n",
    "def sgw(omega):\n",
    "    '''\n",
    "    Given omega, calculate k for surface gravity waves\n",
    "    '''\n",
    "    if isinstance(omega,float):\n",
    "        output = minimize (lambda x: abs(sgw_disp(x)-omega), omega/sqrt(g*H),\n",
    "                          method=root_finding_algorithm )\n",
    "        k = output.x\n",
    "        good = output.success\n",
    "        return k, good\n",
    "    if len(omega)>0:\n",
    "        k = []\n",
    "        good = []\n",
    "        for o in omega:\n",
    "            output = minimize (lambda x: abs(sgw_disp(x)-o), o/sqrt(g*H),\n",
    "                          method=root_finding_algorithm)\n",
    "            k.append( output.x )\n",
    "            good.append ( output.success )\n",
    "        return k, good\n",
    "    \n",
    "def fgw(omega):\n",
    "    '''\n",
    "    Given omega, calculate k for flexural gravity waves\n",
    "    '''\n",
    "    if isinstance(omega,float):\n",
    "        output = minimize (lambda x: abs(fgw_disp(x)-omega), omega/sqrt(g*H),\n",
    "                          method=root_finding_algorithm)\n",
    "        k = output.x\n",
    "        good = output.success\n",
    "        return k, good\n",
    "    if len(omega)>0:\n",
    "        k = []\n",
    "        good = []\n",
    "        for o in omega:\n",
    "            output = minimize (lambda x: abs(fgw_disp(x)-o), o/sqrt(g*H),\n",
    "                          method=root_finding_algorithm)\n",
    "            k.append( output.x )\n",
    "            good.append ( output.success )\n",
    "        return k, good\n",
    "    \n",
    "def transmission_coeff(omega):\n",
    "    \n",
    "    k = sgw(omega)[0][0] # ocean  wavenumber\n",
    "    # print(f'k={k}')\n",
    "    # print(f'L={2*pi/k} in the water')\n",
    "    kappa = fgw(omega)[0][0] # ice wavenumber\n",
    "    # print(f'kappa={kappa}')\n",
    "    # print(f'L={2*pi/kappa} in the ice')\n",
    "    \n",
    "    D = k*sinh(2*k*H) / kappa / sinh(2*kappa*H) * (\n",
    "        2*kappa*H*(L*kappa**4 + rho*g-m*omega**2)+\n",
    "        sinh(2*kappa*H)*(5*L*kappa**4 + rho*g - m*omega**2)\n",
    "                                              )/\\\n",
    "        (rho*g*(2*k*H + sinh(2*k*H)))\n",
    "    \n",
    "    R_unscaled = 0.1\n",
    "    T_unscaled = sqrt( (1 - R_unscaled**2)/D )\n",
    "    R = R_unscaled / (R_unscaled + T_unscaled)\n",
    "    T = T_unscaled / (R_unscaled + T_unscaled)\n",
    "    return T"
   ]
  },
  {
   "cell_type": "code",
   "execution_count": 41,
   "metadata": {},
   "outputs": [
    {
     "name": "stdout",
     "output_type": "stream",
     "text": [
      "Ocean wavelength: 1340.5770566470667\n",
      "Ice Wavelength: 4610.044494747966\n",
      "Ocean wavelength: 156.13101597009032\n",
      "Ice Wavelength: 3001.40763138771\n"
     ]
    }
   ],
   "source": [
    "omega = 2*pi / 35 # this is the independent variable\n",
    "H = 400\n",
    "hi = 300\n",
    "E = 1e10\n",
    "nu = 0.3\n",
    "L = E/(1-nu**2) /15 * hi**3\n",
    "# print(L)\n",
    "\n",
    "rhoi = 910\n",
    "m = rhoi*hi\n",
    "rho = 1024\n",
    "g = 9.81\n",
    "\n",
    "print(f'Ocean wavelength: {2*pi / sgw(2*pi/30)[0][0]}')\n",
    "print(f'Ice Wavelength: {2*pi / fgw(2*pi/30)[0][0]}')\n",
    "\n",
    "print(f'Ocean wavelength: {2*pi / sgw(2*pi/10)[0][0]}')\n",
    "print(f'Ice Wavelength: {2*pi / fgw(2*pi/10)[0][0]}')"
   ]
  },
  {
   "cell_type": "code",
   "execution_count": 8,
   "metadata": {},
   "outputs": [
    {
     "name": "stderr",
     "output_type": "stream",
     "text": [
      "/home/bradlipovsky/anaconda3/envs/comcat/lib/python3.7/site-packages/ipykernel_launcher.py:67: RuntimeWarning: overflow encountered in sinh\n",
      "/home/bradlipovsky/anaconda3/envs/comcat/lib/python3.7/site-packages/ipykernel_launcher.py:68: RuntimeWarning: overflow encountered in sinh\n",
      "/home/bradlipovsky/anaconda3/envs/comcat/lib/python3.7/site-packages/ipykernel_launcher.py:68: RuntimeWarning: invalid value encountered in double_scalars\n"
     ]
    }
   ],
   "source": [
    "root_finding_algorithm = 'TNC'\n",
    "T=[]\n",
    "omegs=logspace(-3,1,100)\n",
    "for omeg in omegs:\n",
    "    T.append(transmission_coeff(omeg))"
   ]
  },
  {
   "cell_type": "code",
   "execution_count": 46,
   "metadata": {},
   "outputs": [
    {
     "data": {
      "image/png": "[encoded data removed]",
      "text/plain": [
       "<Figure size 432x288 with 1 Axes>"
      ]
     },
     "metadata": {},
     "output_type": "display_data"
    }
   ],
   "source": [
    "f1 = 2*pi/35\n",
    "f2 = 2*pi/15\n",
    "\n",
    "import matplotlib.pyplot as plt\n",
    "fig,ax=plt.subplots()\n",
    "fig.patch.set_facecolor('w')\n",
    "plt.plot(omegs,T)\n",
    "plt.plot((f1,f1),(1e-3,1e0))\n",
    "plt.plot((f2,f2),(1e-3,1e0))\n",
    "plt.xlim([-0.1,3])\n",
    "plt.show()"
   ]
  },
  {
   "cell_type": "code",
   "execution_count": null,
   "metadata": {},
   "outputs": [],
   "source": []
  },
  {
   "cell_type": "code",
   "execution_count": null,
   "metadata": {},
   "outputs": [],
   "source": []
  }
 ],
 "metadata": {
  "kernelspec": {
   "display_name": "Python 3 (ipykernel)",
   "language": "python",
   "name": "python3"
  },
  "language_info": {
   "codemirror_mode": {
    "name": "ipython",
    "version": 3
   },
   "file_extension": ".py",
   "mimetype": "text/x-python",
   "name": "python",
   "nbconvert_exporter": "python",
   "pygments_lexer": "ipython3",
   "version": "3.7.12"
  }
 },
 "nbformat": 4,
 "nbformat_minor": 4
}
