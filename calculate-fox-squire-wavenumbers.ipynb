{
 "cells": [
  {
   "cell_type": "code",
   "execution_count": 1,
   "metadata": {},
   "outputs": [],
   "source": [
    "from numpy import sinh, sqrt, fmin, tanh, linspace, logspace,array,pi\n",
    "from scipy.optimize import minimize\n",
    "\n",
    "omega = 2*pi * 0.03 # this is the independent variable\n",
    "H = 100\n",
    "L = 1e16\n",
    "hi = 100\n",
    "rhoi = 910\n",
    "m = rhoi*hi\n",
    "rho = 1024\n",
    "g = 9.81"
   ]
  },
  {
   "cell_type": "code",
   "execution_count": 10,
   "metadata": {},
   "outputs": [],
   "source": [
    "def sgw_disp(k):\n",
    "    '''\n",
    "    Given k, return omega for sgws\n",
    "    '''\n",
    "    omega = sqrt(g*k*tanh(k*H))\n",
    "    return omega\n",
    "\n",
    "def fgw_disp(k):\n",
    "    '''\n",
    "    Given k, return omega for fgws\n",
    "    '''\n",
    "    omega = sqrt((L*k**4 + rho*g)/(rho/tanh(k*H)/k + m))\n",
    "    return omega\n",
    "\n",
    "def sgw(omega):\n",
    "    '''\n",
    "    Given omega, calculate k for surface gravity waves\n",
    "    '''\n",
    "    if isinstance(omega,float):\n",
    "        output = minimize (lambda x: abs(sgw_disp(x)-omega), omega/sqrt(g*H) )\n",
    "        k = output.x\n",
    "        good = output.success\n",
    "        return k, good\n",
    "    if len(omega)>0:\n",
    "        k = []\n",
    "        good = []\n",
    "        for o in omega:\n",
    "            output = minimize (lambda x: abs(sgw_disp(x)-o), o/sqrt(g*H))\n",
    "            k.append( output.x )\n",
    "            good.append ( output.success )\n",
    "        return k, good\n",
    "    \n",
    "def fgw(omega):\n",
    "    '''\n",
    "    Given omega, calculate k for flexural gravity waves\n",
    "    '''\n",
    "    if isinstance(omega,float):\n",
    "        output = minimize (lambda x: abs(fgw_disp(x)-omega), omega/sqrt(g*H) )\n",
    "        k = output.x\n",
    "        good = output.success\n",
    "        return k, good\n",
    "    if len(omega)>0:\n",
    "        k = []\n",
    "        good = []\n",
    "        for o in omega:\n",
    "            output = minimize (lambda x: abs(fgw_disp(x)-o), o/sqrt(g*H))\n",
    "            k.append( output.x )\n",
    "            good.append ( output.success )\n",
    "        return k, good\n",
    "    \n",
    "def transmission_coeff(omega):\n",
    "    \n",
    "    k = sgw(omega)[0][0] # ocean  wavenumber\n",
    "    # print(f'k={k}')\n",
    "    # print(f'L={2*pi/k} in the water')\n",
    "    kappa = fgw(omega)[0][0] # ice wavenumber\n",
    "    # print(f'kappa={kappa}')\n",
    "    # print(f'L={2*pi/kappa} in the ice')\n",
    "    \n",
    "    D = k*sinh(2*k*H) / kappa / sinh(2*kappa*H) * (\n",
    "        2*kappa*H*(L*kappa**4 + rho*g-m*omega**2)+\n",
    "        sinh(2*kappa*H)*(5*L*kappa**4 + rho*g - m*omega**2)\n",
    "                                              )/\\\n",
    "        (rho*g*(2*k*H + sinh(2*k*H)))\n",
    "    \n",
    "    R_unscaled = 0.1\n",
    "    T_unscaled = sqrt( (1 - R_unscaled**2)/D )\n",
    "    R = R_unscaled / (R_unscaled + T_unscaled)\n",
    "    T = T_unscaled / (R_unscaled + T_unscaled)\n",
    "    return T"
   ]
  },
  {
   "cell_type": "code",
   "execution_count": 15,
   "metadata": {},
   "outputs": [],
   "source": [
    "T=[]\n",
    "omegs=logspace(-2,0,100)\n",
    "for omeg in omegs:\n",
    "    T.append(transmission_coeff(omeg))"
   ]
  },
  {
   "cell_type": "code",
   "execution_count": 19,
   "metadata": {},
   "outputs": [
    {
     "data": {
      "text/plain": [
       "[<matplotlib.lines.Line2D at 0x13697e6b0>]"
      ]
     },
     "execution_count": 19,
     "metadata": {},
     "output_type": "execute_result"
    },
    {
     "data": {
      "image/png": "[encoded data removed]",
      "text/plain": [
       "<Figure size 432x288 with 1 Axes>"
      ]
     },
     "metadata": {},
     "output_type": "display_data"
    }
   ],
   "source": [
    "import matplotlib.pyplot as plt\n",
    "fig,ax=plt.subplots()\n",
    "fig.patch.set_facecolor('w')\n",
    "plt.loglog(omegs,T)"
   ]
  },
  {
   "cell_type": "code",
   "execution_count": null,
   "metadata": {},
   "outputs": [],
   "source": []
  }
 ],
 "metadata": {
  "kernelspec": {
   "display_name": "Python 3 (ipykernel)",
   "language": "python",
   "name": "python3"
  },
  "language_info": {
   "codemirror_mode": {
    "name": "ipython",
    "version": 3
   },
   "file_extension": ".py",
   "mimetype": "text/x-python",
   "name": "python",
   "nbconvert_exporter": "python",
   "pygments_lexer": "ipython3",
   "version": "3.10.1"
  }
 },
 "nbformat": 4,
 "nbformat_minor": 4
}
