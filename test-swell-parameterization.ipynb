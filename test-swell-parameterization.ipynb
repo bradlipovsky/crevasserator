{
 "cells": [
  {
   "cell_type": "markdown",
   "metadata": {},
   "source": [
    "# Crevasse model with a single parameter set\n",
    "This note book looks in detail at individual solutions.  Another notebook looks at ensembles of solutions over different parts of the parameter space."
   ]
  },
  {
   "cell_type": "code",
   "execution_count": 1,
   "metadata": {},
   "outputs": [
    {
     "name": "stdout",
     "output_type": "stream",
     "text": [
      "/home/bradlipovsky/anaconda3/envs/fenicsproject/bin:/usr/local/sbin:/usr/local/bin:/usr/sbin:/usr/bin\n"
     ]
    }
   ],
   "source": [
    "# The following few lines of code are unethical and shouldn't be used every again. But they work.\n",
    "import os\n",
    "os.environ['PATH'] = \"/home/bradlipovsky/anaconda3/envs/fenicsproject/bin:\" + os.environ['PATH']\n",
    "print(os.environ['PATH'])"
   ]
  },
  {
   "cell_type": "code",
   "execution_count": 2,
   "metadata": {},
   "outputs": [
    {
     "data": {
      "text/plain": [
       "<module 'crevasse' from '/home/bradlipovsky/notebooks/Near-Front-Crevasses/crevasse.py'>"
      ]
     },
     "execution_count": 2,
     "metadata": {},
     "output_type": "execute_result"
    }
   ],
   "source": [
    "from dolfin import *\n",
    "from mshr import *\n",
    "import matplotlib.pyplot as plt\n",
    "# %matplotlib notebook\n",
    "from time import perf_counter\n",
    "import numpy as np\n",
    "import pickle\n",
    "import scipy.integrate as integrate\n",
    "import scipy.special as special\n",
    "from os import path\n",
    "\n",
    "import crevasse as c # main module for this project\n",
    "from importlib import reload\n",
    "reload(c)"
   ]
  },
  {
   "cell_type": "markdown",
   "metadata": {},
   "source": [
    "## Define baseline parameters"
   ]
  },
  {
   "cell_type": "code",
   "execution_count": 3,
   "metadata": {},
   "outputs": [],
   "source": [
    "# Geometry: domain width, domain height,  crevasse location, crevasse width, crevasse height\n",
    "geom = {'W':60000,'H':300,'Lc':1000, 'Wc':1, 'Hc': 5}\n",
    "    \n",
    "# Materials: Youngs modulus, poisson ratio, ice density, water density, gravity\n",
    "mats = {'E':1e10, 'nu':0.3, 'rho':910, 'rhow':1024, 'g':9.81}"
   ]
  },
  {
   "cell_type": "markdown",
   "metadata": {},
   "source": [
    "## Define the FEM solution"
   ]
  },
  {
   "cell_type": "code",
   "execution_count": 4,
   "metadata": {},
   "outputs": [
    {
     "name": "stdout",
     "output_type": "stream",
     "text": [
      "\n",
      "UMFPACK V5.7.8 (Nov 9, 2018): ERROR: out of memory\n",
      "\n"
     ]
    },
    {
     "ename": "RuntimeError",
     "evalue": "\n\n*** -------------------------------------------------------------------------\n*** DOLFIN encountered an error. If you are not able to resolve this issue\n*** using the information listed below, you can ask for help at\n***\n***     fenics-support@googlegroups.com\n***\n*** Remember to include the error message listed below and, if possible,\n*** include a *minimal* running example to reproduce the error.\n***\n*** -------------------------------------------------------------------------\n*** Error:   Unable to successfully call PETSc function 'KSPSolve'.\n*** Reason:  PETSc error code is: 76 (Error in external library).\n*** Where:   This error was encountered inside /home/conda/feedstock_root/build_artifacts/fenics-pkgs_1617882212586/work/dolfin/dolfin/la/PETScKrylovSolver.cpp.\n*** Process: 0\n*** \n*** DOLFIN version: 2019.1.0\n*** Git changeset:  7f46aeb0b296da5bbb1fb0845822a72ab9b09c55\n*** -------------------------------------------------------------------------\n",
     "output_type": "error",
     "traceback": [
      "\u001b[0;31m---------------------------------------------------------------------------\u001b[0m",
      "\u001b[0;31mRuntimeError\u001b[0m                              Traceback (most recent call last)",
      "\u001b[0;32m/tmp/ipykernel_3866842/83487680.py\u001b[0m in \u001b[0;36m<module>\u001b[0;34m\u001b[0m\n\u001b[0;32m----> 1\u001b[0;31m U_all,mesh = c.elasticity_solutions(case='full-minus-prestress',verbose=True,crevasse_location=\"surface\",\n\u001b[0m\u001b[1;32m      2\u001b[0m                              geometry=geom,swell_amplitude=1.0, swell_phase=0.0,swell_forcing='everything')\n\u001b[1;32m      3\u001b[0m U_bottom,mesh = c.elasticity_solutions(case='full-minus-prestress',verbose=True,crevasse_location=\"surface\",\n\u001b[1;32m      4\u001b[0m                              geometry=geom,swell_amplitude=1.0, swell_phase=0.0,swell_forcing='bottom only')\n\u001b[1;32m      5\u001b[0m U_front,mesh = c.elasticity_solutions(case='full-minus-prestress',verbose=True,crevasse_location=\"surface\",\n",
      "\u001b[0;32m/home/bradlipovsky/notebooks/Near-Front-Crevasses/crevasse.py\u001b[0m in \u001b[0;36melasticity_solutions\u001b[0;34m(case, geometry, materials, crevasse_location, swell_amplitude, swell_phase, swell_wavelength, swell_forcing, crevasse_refinement, verbose)\u001b[0m\n\u001b[1;32m    324\u001b[0m \u001b[0;34m\u001b[0m\u001b[0m\n\u001b[1;32m    325\u001b[0m     \u001b[0mU\u001b[0m \u001b[0;34m=\u001b[0m \u001b[0mFunction\u001b[0m\u001b[0;34m(\u001b[0m\u001b[0mV\u001b[0m\u001b[0;34m)\u001b[0m\u001b[0;34m\u001b[0m\u001b[0;34m\u001b[0m\u001b[0m\n\u001b[0;32m--> 326\u001b[0;31m     \u001b[0msolve\u001b[0m\u001b[0;34m(\u001b[0m\u001b[0ma\u001b[0m\u001b[0;34m==\u001b[0m\u001b[0mL\u001b[0m\u001b[0;34m,\u001b[0m\u001b[0mU\u001b[0m\u001b[0;34m,\u001b[0m\u001b[0mbc\u001b[0m\u001b[0;34m)\u001b[0m\u001b[0;34m\u001b[0m\u001b[0;34m\u001b[0m\u001b[0m\n\u001b[0m\u001b[1;32m    327\u001b[0m \u001b[0;34m\u001b[0m\u001b[0m\n\u001b[1;32m    328\u001b[0m \u001b[0;34m\u001b[0m\u001b[0m\n",
      "\u001b[0;32m/home/bradlipovsky/anaconda3/envs/fenicsproject/lib/python3.9/site-packages/dolfin/fem/solving.py\u001b[0m in \u001b[0;36msolve\u001b[0;34m(*args, **kwargs)\u001b[0m\n\u001b[1;32m    218\u001b[0m     \u001b[0;31m# tolerance)\u001b[0m\u001b[0;34m\u001b[0m\u001b[0;34m\u001b[0m\u001b[0;34m\u001b[0m\u001b[0m\n\u001b[1;32m    219\u001b[0m     \u001b[0;32melif\u001b[0m \u001b[0misinstance\u001b[0m\u001b[0;34m(\u001b[0m\u001b[0margs\u001b[0m\u001b[0;34m[\u001b[0m\u001b[0;36m0\u001b[0m\u001b[0;34m]\u001b[0m\u001b[0;34m,\u001b[0m \u001b[0mufl\u001b[0m\u001b[0;34m.\u001b[0m\u001b[0mclasses\u001b[0m\u001b[0;34m.\u001b[0m\u001b[0mEquation\u001b[0m\u001b[0;34m)\u001b[0m\u001b[0;34m:\u001b[0m\u001b[0;34m\u001b[0m\u001b[0;34m\u001b[0m\u001b[0m\n\u001b[0;32m--> 220\u001b[0;31m         \u001b[0m_solve_varproblem\u001b[0m\u001b[0;34m(\u001b[0m\u001b[0;34m*\u001b[0m\u001b[0margs\u001b[0m\u001b[0;34m,\u001b[0m \u001b[0;34m**\u001b[0m\u001b[0mkwargs\u001b[0m\u001b[0;34m)\u001b[0m\u001b[0;34m\u001b[0m\u001b[0;34m\u001b[0m\u001b[0m\n\u001b[0m\u001b[1;32m    221\u001b[0m \u001b[0;34m\u001b[0m\u001b[0m\n\u001b[1;32m    222\u001b[0m     \u001b[0;31m# Default case, just call the wrapped C++ solve function\u001b[0m\u001b[0;34m\u001b[0m\u001b[0;34m\u001b[0m\u001b[0;34m\u001b[0m\u001b[0m\n",
      "\u001b[0;32m/home/bradlipovsky/anaconda3/envs/fenicsproject/lib/python3.9/site-packages/dolfin/fem/solving.py\u001b[0m in \u001b[0;36m_solve_varproblem\u001b[0;34m(*args, **kwargs)\u001b[0m\n\u001b[1;32m    245\u001b[0m         \u001b[0msolver\u001b[0m \u001b[0;34m=\u001b[0m \u001b[0mLinearVariationalSolver\u001b[0m\u001b[0;34m(\u001b[0m\u001b[0mproblem\u001b[0m\u001b[0;34m)\u001b[0m\u001b[0;34m\u001b[0m\u001b[0;34m\u001b[0m\u001b[0m\n\u001b[1;32m    246\u001b[0m         \u001b[0msolver\u001b[0m\u001b[0;34m.\u001b[0m\u001b[0mparameters\u001b[0m\u001b[0;34m.\u001b[0m\u001b[0mupdate\u001b[0m\u001b[0;34m(\u001b[0m\u001b[0msolver_parameters\u001b[0m\u001b[0;34m)\u001b[0m\u001b[0;34m\u001b[0m\u001b[0;34m\u001b[0m\u001b[0m\n\u001b[0;32m--> 247\u001b[0;31m         \u001b[0msolver\u001b[0m\u001b[0;34m.\u001b[0m\u001b[0msolve\u001b[0m\u001b[0;34m(\u001b[0m\u001b[0;34m)\u001b[0m\u001b[0;34m\u001b[0m\u001b[0;34m\u001b[0m\u001b[0m\n\u001b[0m\u001b[1;32m    248\u001b[0m \u001b[0;34m\u001b[0m\u001b[0m\n\u001b[1;32m    249\u001b[0m     \u001b[0;31m# Solve nonlinear variational problem\u001b[0m\u001b[0;34m\u001b[0m\u001b[0;34m\u001b[0m\u001b[0;34m\u001b[0m\u001b[0m\n",
      "\u001b[0;31mRuntimeError\u001b[0m: \n\n*** -------------------------------------------------------------------------\n*** DOLFIN encountered an error. If you are not able to resolve this issue\n*** using the information listed below, you can ask for help at\n***\n***     fenics-support@googlegroups.com\n***\n*** Remember to include the error message listed below and, if possible,\n*** include a *minimal* running example to reproduce the error.\n***\n*** -------------------------------------------------------------------------\n*** Error:   Unable to successfully call PETSc function 'KSPSolve'.\n*** Reason:  PETSc error code is: 76 (Error in external library).\n*** Where:   This error was encountered inside /home/conda/feedstock_root/build_artifacts/fenics-pkgs_1617882212586/work/dolfin/dolfin/la/PETScKrylovSolver.cpp.\n*** Process: 0\n*** \n*** DOLFIN version: 2019.1.0\n*** Git changeset:  7f46aeb0b296da5bbb1fb0845822a72ab9b09c55\n*** -------------------------------------------------------------------------\n"
     ]
    }
   ],
   "source": [
    "U_all,mesh = c.elasticity_solutions(case='full-minus-prestress',verbose=True,crevasse_location=\"surface\",\n",
    "                             geometry=geom,swell_amplitude=1.0, swell_phase=0.0,swell_forcing='everything')\n",
    "U_bottom,mesh = c.elasticity_solutions(case='full-minus-prestress',verbose=True,crevasse_location=\"surface\",\n",
    "                             geometry=geom,swell_amplitude=1.0, swell_phase=0.0,swell_forcing='bottom only')\n",
    "U_front,mesh = c.elasticity_solutions(case='full-minus-prestress',verbose=True,crevasse_location=\"surface\",\n",
    "                             geometry=geom,swell_amplitude=1.0, swell_phase=0.0,swell_forcing='front only')"
   ]
  },
  {
   "cell_type": "code",
   "execution_count": null,
   "metadata": {
    "scrolled": false
   },
   "outputs": [],
   "source": [
    "mats['mu'] = mats['E']/2./(1+mats['nu'])\n",
    "mats['lmbda'] = mats['E']*mats['nu']/(1+mats['nu'])/(1-2*mats['nu'])\n",
    "\n",
    "# U = U_front\n",
    "U = U_all\n",
    "# U = U_bottom\n",
    "\n",
    "fig,ax=plt.subplots(figsize=(16,5))\n",
    "# c=plot(sigma(U,mats['lmbda'],mats['mu'])[0,0],mode='color',vmin=00e3,vmax=300e3,cmap='viridis')\n",
    "cc=plot(c.sigma(U,mats['lmbda'],mats['mu'])[0,1],mode='color',cmap='seismic',vmin=-50e3,vmax=50e3)\n",
    "# cc=plot(U[0],mode='color',vmin=-10,vmax=10,cmap='seismic')\n",
    "\n",
    "ax.set_xlim([0,3000])\n",
    "# ax.set_ylim([200,300])\n",
    "plt.xlabel('Distance from ice front (m)')\n",
    "plt.ylabel('Distance from bottom of ice shelf (m)')\n",
    "plt.title('Shear stress (kPa)')\n",
    "plt.colorbar(cc)\n",
    "plt.show()"
   ]
  },
  {
   "cell_type": "code",
   "execution_count": null,
   "metadata": {},
   "outputs": [],
   "source": [
    "Hw = mats['rho']/mats['rhow']*geom['H']\n",
    "fig,ax=plt.subplots(figsize=(16,5))\n",
    "plot(mesh)\n",
    "ax.set_xlim([0,5e3])\n",
    "plt.xlabel('Distance from ice front (m)')\n",
    "plt.ylabel('Distance from bottom of ice shelf (m)')\n",
    "plt.show()"
   ]
  },
  {
   "cell_type": "markdown",
   "metadata": {},
   "source": [
    "# Does the big variation in SIF come from the front BC or the bottom BC?\n",
    "## Answer: the bottom BC\n",
    "\n",
    "Previous result:\n",
    "#### Crevasse locations: \n",
    "(10270.676691729323, 10273.182957393483)\n",
    "#### SIFs:\n",
    "(638801.7601736342, 602083.4188574409)\n",
    "SIF Difference is -6.098547 pct over 2.506266 m\n",
    "\n"
   ]
  },
  {
   "cell_type": "code",
   "execution_count": null,
   "metadata": {},
   "outputs": [],
   "source": [
    "stop()\n",
    "test_locations = (10273.182957393483,10270.676691729323)\n",
    "KI=[]\n",
    "\n",
    "for loc in test_locations:\n",
    "    geom['Lc']= loc\n",
    "\n",
    "    this_KI,this_KII = c.sif(geom,mats,verbose=False,loc='surface',swell_amplitude=1.0,\n",
    "        swell_phase=3.5,swell_forcing='everything')\n",
    "    \n",
    "    KI.append(this_KI)\n",
    "\n",
    "KI_front = []    \n",
    "for loc in test_locations:\n",
    "    geom['Lc']= loc\n",
    "\n",
    "    this_KI,this_KII = c.sif(geom,mats,verbose=False,loc='surface',swell_amplitude=1.0,\n",
    "        swell_phase=3.5,swell_forcing='front only')\n",
    "    \n",
    "    KI_front.append(this_KI)\n",
    "    \n",
    "KI_bottom = []    \n",
    "for loc in test_locations:\n",
    "    geom['Lc']= loc\n",
    "\n",
    "    this_KI,this_KII = c.sif(geom,mats,verbose=False,loc='surface',swell_amplitude=1.0,\n",
    "        swell_phase=3.5,swell_forcing='bottom only')\n",
    "    \n",
    "    KI_bottom.append(this_KI)\n",
    "\n",
    "print(np.diff(KI)[0])\n",
    "print(np.diff(KI_front)[0])\n",
    "print(np.diff(KI_bottom)[0])"
   ]
  },
  {
   "cell_type": "markdown",
   "metadata": {},
   "source": [
    "# Next question: is the mesh resolution fine enough within one swell wavelength of the crevasse?"
   ]
  },
  {
   "cell_type": "code",
   "execution_count": null,
   "metadata": {},
   "outputs": [],
   "source": [
    "from time import perf_counter\n",
    "D, flexural_gravity_wavelength = c.fgl(mats,geom)\n",
    "\n",
    "KI_res_test = []\n",
    "\n",
    "resolutions = np.logspace(-2,2,10) * flexural_gravity_wavelength\n",
    "\n",
    "for i,loc in enumerate(test_locations):\n",
    "    geom['Lc']= loc\n",
    "    these_KIs = []\n",
    "    for res in resolutions:\n",
    "        t0 = perf_counter()\n",
    "        this_KI,this_KII = c.sif(geom,mats,verbose=False,loc='surface',swell_amplitude=1.0,\n",
    "            swell_phase=3.5,swell_forcing='bottom only',crevasse_refinement=res)\n",
    "        t1 = perf_counter()\n",
    "        dt=t1-t0\n",
    "        print('Resolution: %d'%res)\n",
    "        print('    KI=%f'%this_KI)\n",
    "        print('    dt=%f'%dt)\n",
    "        these_KIs.append(this_KI)\n",
    "    KI_res_test.append (these_KIs)\n",
    "    print(' ')"
   ]
  },
  {
   "cell_type": "code",
   "execution_count": null,
   "metadata": {},
   "outputs": [],
   "source": [
    "\n",
    "resolutions = np.array(resolutions)\n",
    "plt.subplots()\n",
    "plt.plot(resolutions/flexural_gravity_wavelength,\n",
    "         np.diff(KI_res_test,axis=0).flatten(),'-ok')\n",
    "plt.grid()\n",
    "plt.xscale('log')\n",
    "# plt.yscale('log')"
   ]
  },
  {
   "cell_type": "markdown",
   "metadata": {},
   "source": [
    "# Conclusion: the previous simulations didn't have high enough resolution near the crevasse. High resolution needs to be maintained within one flexural gravity wavelength of the crevasse."
   ]
  }
 ],
 "metadata": {
  "kernelspec": {
   "display_name": "Python (FEniCS)",
   "language": "python",
   "name": "fenicsproject"
  },
  "language_info": {
   "codemirror_mode": {
    "name": "ipython",
    "version": 3
   },
   "file_extension": ".py",
   "mimetype": "text/x-python",
   "name": "python",
   "nbconvert_exporter": "python",
   "pygments_lexer": "ipython3",
   "version": "3.9.6"
  }
 },
 "nbformat": 4,
 "nbformat_minor": 4
}
