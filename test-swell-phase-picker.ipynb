{
 "cells": [
  {
   "cell_type": "markdown",
   "metadata": {},
   "source": [
    "So we need to calculate the phase where the maximum SIF occurs.  \n",
    "Let's test out the methods we have to do this to make sure eveything is working."
   ]
  },
  {
   "cell_type": "code",
   "execution_count": 1,
   "metadata": {},
   "outputs": [
    {
     "name": "stdout",
     "output_type": "stream",
     "text": [
      "2019.1.0\n"
     ]
    }
   ],
   "source": [
    "from dolfin import *\n",
    "from mshr import *\n",
    "import matplotlib.pyplot as plt\n",
    "# %matplotlib notebook\n",
    "from time import perf_counter\n",
    "import numpy as np\n",
    "import pickle\n",
    "import scipy.integrate as integrate\n",
    "import scipy.special as special\n",
    "from os import path\n",
    "import crevasse as c # main module for this project\n",
    "from importlib import reload\n",
    "reload(c)\n",
    "print (dolfin.__version__)"
   ]
  },
  {
   "cell_type": "code",
   "execution_count": 2,
   "metadata": {},
   "outputs": [],
   "source": [
    "# Geometry: domain width, domain height,  crevasse location, crevasse width, crevasse height\n",
    "geom = {'W':60000,'H':300,'Lc':15, 'Wc':1, 'Hc': 5}\n",
    "    \n",
    "# Materials: Youngs modulus, poisson ratio, ice density, water density, gravity\n",
    "mats = {'E':1e10, 'nu':0.3, 'rho':910, 'rhow':1024, 'g':9.81}\n",
    "\n",
    "D = mats['E']/(1-mats['nu']**2) * geom['H']**3 / 12\n",
    "flexural_gravity_wavelength = 2*pi*(D/(mats['rhow']*mats['g']))**(1/4)\n",
    "\n",
    "# Lcs_swell = Lcs\n",
    "Lcs_swell = np.linspace(10,3*flexural_gravity_wavelength,10000)\n",
    "# Lcs_swell = (100,200,300,600,1200,2400,4800,9600,19200)"
   ]
  },
  {
   "cell_type": "code",
   "execution_count": null,
   "metadata": {},
   "outputs": [],
   "source": [
    "# First get the result visually, witout calling the dedicated code\n",
    "\n",
    "crevasse_locations = (4505,4510)\n",
    "phases = np.arange(0,2*np.pi,1)\n",
    "KI=[[],[]]\n",
    "KII=[[],[]]\n",
    "\n",
    "for i,this_Lc in enumerate(crevasse_locations):\n",
    "    g=geom\n",
    "    g['Lc'] = this_Lc\n",
    "    for this_phase in phases:\n",
    "        print(this_phase)\n",
    "        these_Ks = c.sif(g,mats,verbose=True,loc='surface', \n",
    "                         swell_amplitude=1.0,swell_phase=this_phase)\n",
    "        KI[i].append(these_Ks[0])\n",
    "        KII[i].append(these_Ks[1])    "
   ]
  },
  {
   "cell_type": "code",
   "execution_count": null,
   "metadata": {},
   "outputs": [],
   "source": [
    "# Now call the dedicated code\n",
    "test_4505 = c.find_max_phase('surface','I',geom,mats,True,4505)\n",
    "test_4510 = c.find_max_phase('surface','I',geom,mats,True,4510)"
   ]
  },
  {
   "cell_type": "code",
   "execution_count": null,
   "metadata": {},
   "outputs": [],
   "source": [
    "fig,ax1=plt.subplots()\n",
    "ax1.plot(phases,np.array(KI[0])/1e6,'-k')\n",
    "ax2 = ax1.twinx()\n",
    "ax2.plot(phases,np.array(KII[0])/1e6,'-r')\n",
    "\n",
    "ax1.plot(phases,np.array(KI[1])/1e6,'--k')\n",
    "ax2.plot(phases,np.array(KII[1])/1e6,'--r')\n",
    "\n",
    "ax1.plot(test_4505[0],test_4505[1]/1e6,'sm',markersize=10)\n",
    "ax1.plot(test_4510[0],test_4510[1]/1e6,'og',markersize=8)"
   ]
  },
  {
   "cell_type": "code",
   "execution_count": null,
   "metadata": {},
   "outputs": [],
   "source": [
    "# Conclusion: the function c.find_max_phase works as intended."
   ]
  },
  {
   "cell_type": "code",
   "execution_count": null,
   "metadata": {},
   "outputs": [],
   "source": []
  },
  {
   "cell_type": "code",
   "execution_count": 3,
   "metadata": {},
   "outputs": [
    {
     "name": "stdout",
     "output_type": "stream",
     "text": [
      "Finding Phase with max K:\n",
      "Finding Phase with max K:\n",
      "Finding Phase with max K:\n",
      "Finding Phase with max K:\n",
      "     Phase = 2.399963 rad\n",
      "Finding Phase with max K:\n",
      "Finding Phase with max K:\n",
      "     Phase = 2.399963 rad\n",
      "     Phase = 2.399963 rad\n",
      "     Phase = 2.399963 rad\n",
      "     Phase = 2.399963 rad\n",
      "     Phase = 2.399963 rad\n",
      "     KI = 677851.729676\n",
      "     Phase = 3.883222 rad\n",
      "     KI = 685556.477825\n",
      "     Phase = 3.883222 rad\n",
      "     KI = 648847.216693\n",
      "     Phase = 3.883222 rad\n",
      "     KI = 672673.324448\n",
      "     Phase = 3.883222 rad\n",
      "     KI = 623032.574078\n",
      "     Phase = 3.883222 rad\n",
      "     KI = 664991.487344\n",
      "     Phase = 3.883222 rad\n",
      "     KI = 801034.041476\n",
      "     Phase = 1.483259 rad\n",
      "     KI = 803483.773300\n",
      "     Phase = 1.483259 rad\n",
      "     KI = 777933.275580\n",
      "     Phase = 1.483259 rad\n",
      "     KI = 779137.508242\n",
      "     Phase = 1.483259 rad\n",
      "     KI = 796700.611576\n",
      "     Phase = 1.483259 rad\n",
      "     KI = 781093.590137\n",
      "     Phase = 1.483259 rad\n",
      "     KI = 592244.070202\n",
      "     Phase = 0.916704 rad\n",
      "     KI = 573915.525334\n",
      "     Phase = 0.677271 rad\n",
      "     KI = 603867.543620\n",
      "     Phase = 0.916704 rad\n",
      "     KI = 593262.368606\n",
      "     Phase = 0.916704 rad\n",
      "     KI = 595417.831840\n",
      "     Phase = 0.916704 rad\n",
      "     KI = 573543.480070\n",
      "     Phase = 0.916704 rad\n",
      "     KI = 605923.718999\n",
      "     Phase = 1.446923 rad\n",
      "     KI = 575107.398146\n",
      "     Phase = 0.844700 rad\n",
      "     KI = 592330.884791\n",
      "     Phase = 0.923874 rad\n",
      "     KI = 570326.036758\n",
      "     Phase = 0.701214 rad\n",
      "     KI = 586286.395462\n",
      "     Phase = 1.000021 rad\n",
      "     KI = 570314.195957\n",
      "     Phase = 1.144685 rad\n",
      "     KI = 573814.133380\n",
      "     Phase = 1.439827 rad\n",
      "     KI = 575491.944860\n",
      "     Phase = 0.928616 rad\n",
      "     KI = 585643.235105\n",
      "     Phase = 1.036610 rad\n",
      "     KI = 571152.351263\n",
      "     Phase = 0.842792 rad\n",
      "     KI = 592289.869279\n",
      "     Phase = 0.981632 rad\n",
      "     KI = 567023.035619\n",
      "     Phase = 1.152062 rad\n",
      "     KI = 573812.148129\n",
      "     Phase = 1.440955 rad\n",
      "     KI = 575100.696577\n",
      "     Phase = 0.927601 rad\n",
      "     KI = 585579.578247\n",
      "     Phase = 1.035759 rad\n",
      "     KI = 592137.137223\n",
      "     Phase = 0.980658 rad\n",
      "     KI = 569997.856760\n",
      "     Phase = 0.841763 rad\n",
      "     KI = 567020.055688\n",
      "     Phase = 1.151728 rad\n",
      "     KI = 573812.074469\n",
      "     Phase = 1.441288 rad\n",
      "     KI = 575100.637514\n",
      "     Phase = 0.927267 rad\n",
      "     KI = 585579.539873\n",
      "     Phase = 1.035426 rad\n",
      "     KI = 592137.090588\n",
      "     Phase = 0.980325 rad\n",
      "     KI = 569997.798390\n",
      "     Phase = 0.842097 rad\n",
      "     KI = 567020.049713\n",
      "     Phase = 1.151395 rad\n",
      "     KI = 575100.643726\n",
      "     Phase = 0.927934 rad\n",
      "     KI = 573812.080877\n",
      "     Phase = 1.440622 rad\n",
      "     KI = 585579.544536\n",
      "     Phase = 1.036093 rad\n",
      "     KI = 592137.095303\n",
      "     Phase = 0.980991 rad\n",
      "     KI = 567020.057052\n",
      "     KI = 569997.803763\n",
      "     Phase = 0.841430 rad\n",
      "     KI = 575100.643963\n",
      "     KI = 573812.080907\n",
      "     KI = 585579.546315\n",
      "     KI = 592137.096423\n",
      "     KI = 569997.806027\n"
     ]
    }
   ],
   "source": [
    "Lcs_swell = np.linspace(4480,4560,6)\n",
    "test_output = c.call_pmap(geom,mats,'surface','I',Lcs_swell,6,verbose=True)"
   ]
  },
  {
   "cell_type": "code",
   "execution_count": 14,
   "metadata": {},
   "outputs": [
    {
     "data": {
      "text/plain": [
       "[<matplotlib.lines.Line2D at 0x7f59df9677b8>]"
      ]
     },
     "execution_count": 14,
     "metadata": {},
     "output_type": "execute_result"
    },
    {
     "data": {
      "image/png": "[encoded data removed]",
      "text/plain": [
       "<Figure size 432x288 with 1 Axes>"
      ]
     },
     "metadata": {
      "needs_background": "light"
     },
     "output_type": "display_data"
    }
   ],
   "source": [
    "with open('swell-sifs-high-res-linear.pkl', 'rb') as f:\n",
    "    output = pickle.load(f)\n",
    "plt.subplots()\n",
    "plt.plot(np.array(output[0])[:,1]/1e6)\n",
    "plt.xlim([4475,4575])\n",
    "plt.ylim(np.array([400e3,600e3])/1e6)\n",
    "plt.plot([4505,4505],[.4,.6])\n",
    "plt.plot([4510,4510],[.4,.6])\n",
    "\n",
    "plt.plot(Lcs_swell,np.array(test_output)[:,1]/1e6,'o')"
   ]
  },
  {
   "cell_type": "code",
   "execution_count": null,
   "metadata": {},
   "outputs": [],
   "source": []
  },
  {
   "cell_type": "code",
   "execution_count": null,
   "metadata": {},
   "outputs": [],
   "source": []
  }
 ],
 "metadata": {
  "kernelspec": {
   "display_name": "Python 3",
   "language": "python",
   "name": "python3"
  },
  "language_info": {
   "codemirror_mode": {
    "name": "ipython",
    "version": 3
   },
   "file_extension": ".py",
   "mimetype": "text/x-python",
   "name": "python",
   "nbconvert_exporter": "python",
   "pygments_lexer": "ipython3",
   "version": "3.6.7"
  }
 },
 "nbformat": 4,
 "nbformat_minor": 5
}
