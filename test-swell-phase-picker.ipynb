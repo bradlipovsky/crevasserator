{
 "cells": [
  {
   "cell_type": "markdown",
   "id": "3da9d800",
   "metadata": {},
   "source": [
    "So we need to calculate the phase where the maximum SIF occurs.  \n",
    "Let's test out the methods we have to do this to make sure eveything is working."
   ]
  },
  {
   "cell_type": "code",
   "execution_count": 1,
   "id": "e13c846e",
   "metadata": {},
   "outputs": [
    {
     "name": "stdout",
     "output_type": "stream",
     "text": [
      "/home/bradlipovsky/anaconda3/envs/fenicsproject/bin:/usr/local/sbin:/usr/local/bin:/usr/sbin:/usr/bin\n"
     ]
    }
   ],
   "source": [
    "# The following few lines of code are unethical and shouldn't be used every again. But they work.\n",
    "import os\n",
    "os.environ['PATH'] = \"/home/bradlipovsky/anaconda3/envs/fenicsproject/bin:\" + os.environ['PATH']\n",
    "print(os.environ['PATH'])"
   ]
  },
  {
   "cell_type": "code",
   "execution_count": 2,
   "id": "7388936a",
   "metadata": {},
   "outputs": [
    {
     "name": "stdout",
     "output_type": "stream",
     "text": [
      "2019.1.0\n"
     ]
    }
   ],
   "source": [
    "import numpy as np\n",
    "from dolfin import *\n",
    "from mshr import *\n",
    "import matplotlib.pyplot as plt\n",
    "# %matplotlib notebook\n",
    "from time import perf_counter\n",
    "import pickle\n",
    "import scipy.integrate as integrate\n",
    "import scipy.special as special\n",
    "from os import path\n",
    "import crevasse as c # main module for this project\n",
    "from importlib import reload\n",
    "reload(c)\n",
    "print (dolfin.__version__)"
   ]
  },
  {
   "cell_type": "code",
   "execution_count": 3,
   "id": "7a82f136",
   "metadata": {},
   "outputs": [
    {
     "name": "stdout",
     "output_type": "stream",
     "text": [
      "7869.966954740469\n"
     ]
    }
   ],
   "source": [
    "# Geometry: domain width, domain height,  crevasse location, crevasse width, crevasse height\n",
    "geom = {'W':60000,'H':300,'Lc':15, 'Wc':1, 'Hc': 5}\n",
    "    \n",
    "# Materials: Youngs modulus, poisson ratio, ice density, water density, gravity\n",
    "mats = {'E':1e10, 'nu':0.3, 'rho':910, 'rhow':1024, 'g':9.81}\n",
    "\n",
    "D = mats['E']/(1-mats['nu']**2) * geom['H']**3 / 12\n",
    "flexural_gravity_wavelength = 2*np.pi*(D/(mats['rhow']*mats['g']))**(1/4)\n",
    "\n",
    "# Lcs_swell = np.linspace(10,3*flexural_gravity_wavelength,10000)\n",
    "# Lcs_swell = (100,200,300,600,1200,2400,4800,9600,19200)\n",
    "Lcs_swell_1000 = np.linspace(10000,11000,400)\n",
    "\n",
    "print(flexural_gravity_wavelength)"
   ]
  },
  {
   "cell_type": "markdown",
   "id": "9f471c42",
   "metadata": {},
   "source": [
    "# So here's the problem.\n",
    "\n",
    "Suppose you have a crevasse at some distance from the ice front that's exposed to ocean swell.  What is the maximum SIF that that crevasse experiences?  The output looks really jagged. We need to decide if that's real or not."
   ]
  },
  {
   "cell_type": "code",
   "execution_count": 4,
   "id": "49668c20",
   "metadata": {},
   "outputs": [
    {
     "name": "stdout",
     "output_type": "stream",
     "text": [
      "Crevasse locations: \n",
      "(10270.676691729323, 10273.182957393483)\n",
      "SIFs:\n",
      "(638801.7601736342, 602083.4188574409)\n",
      "---\n",
      "SIF Difference is -6.098547 pct over 2.506266 m\n"
     ]
    },
    {
     "data": {
      "image/png": "[encoded data removed]",
      "text/plain": [
       "<Figure size 432x288 with 1 Axes>"
      ]
     },
     "metadata": {
      "needs_background": "light"
     },
     "output_type": "display_data"
    }
   ],
   "source": [
    "# The code to calculate swell sifs has been moved to run_crevasse_simulations.py\n",
    "\n",
    "with open('test-10000-to-11000-96-cores.pkl','rb') as f:\n",
    "    output_1000 = pickle.load(f)\n",
    "\n",
    "plt.subplots()\n",
    "plt.plot(Lcs_swell_1000,np.array(output_1000)[:,1])\n",
    "plt.xlim([Lcs_swell_1000[100],Lcs_swell_1000[125]])\n",
    "plt.ylim([550e3,650e3])\n",
    "plt.ylabel('SIF')\n",
    "plt.xlabel('Distance from front (m)')\n",
    "\n",
    "crevasse_locations = (Lcs_swell_1000[108],Lcs_swell_1000[109])\n",
    "questionable_sifs = (np.array(output_1000)[108,1],np.array(output_1000)[109,1])\n",
    "plt.plot(crevasse_locations,questionable_sifs,'or')\n",
    "\n",
    "print('Crevasse locations: ')\n",
    "print(crevasse_locations)\n",
    "print('SIFs:')\n",
    "print(questionable_sifs)\n",
    "print('---')\n",
    "print('SIF Difference is %f pct over %f m'%(100*np.diff(questionable_sifs)/questionable_sifs[1],\n",
    "                                         np.diff(crevasse_locations)))"
   ]
  },
  {
   "cell_type": "markdown",
   "id": "a545cf54",
   "metadata": {},
   "source": [
    "This result was calculated using a specialized, parallelized code.  Let's test the individual components.\n",
    "\n",
    "First get the result visually, witout calling the dedicated code"
   ]
  },
  {
   "cell_type": "code",
   "execution_count": 5,
   "id": "02a9a324",
   "metadata": {},
   "outputs": [
    {
     "name": "stdout",
     "output_type": "stream",
     "text": [
      "0.0\n",
      "1.0\n",
      "2.0\n",
      "3.0\n",
      "4.0\n",
      "5.0\n",
      "6.0\n",
      "0.0\n",
      "1.0\n",
      "2.0\n",
      "3.0\n",
      "4.0\n",
      "5.0\n",
      "6.0\n"
     ]
    }
   ],
   "source": [
    "phases = np.arange(0,2*np.pi,1)\n",
    "KI=[[],[]]\n",
    "KII=[[],[]]\n",
    "\n",
    "for i,this_Lc in enumerate(crevasse_locations):\n",
    "    g=geom\n",
    "    g['Lc'] = this_Lc\n",
    "    for this_phase in phases:\n",
    "        print(this_phase)\n",
    "        these_Ks = c.sif(g,mats,verbose=True,loc='surface', \n",
    "                         swell_amplitude=1.0,swell_phase=this_phase)\n",
    "        KI[i].append(these_Ks[0])\n",
    "        KII[i].append(these_Ks[1])"
   ]
  },
  {
   "cell_type": "code",
   "execution_count": 25,
   "id": "f99e8694",
   "metadata": {},
   "outputs": [
    {
     "name": "stdout",
     "output_type": "stream",
     "text": [
      "46.5290189627558\n",
      "105.73019993677735\n",
      "153.1402288991958\n",
      "200.6733732521534\n",
      "272.04884920828044\n",
      "331.74255801178515\n",
      "426.0849100239575\n",
      "522.2022962234914\n",
      "578.9092139713466\n",
      "635.3076101038605\n"
     ]
    }
   ],
   "source": [
    "# Now call the dedicated code\n",
    "t_start = perf_counter()\n",
    "test = []\n",
    "ntest=10\n",
    "test_locations = np.linspace(10270,10273,ntest)\n",
    "for x_test in test_locations:\n",
    "    test.append( c.find_max_phase('surface','I',geom,mats,False,x_test) )\n",
    "    t_stop = perf_counter()\n",
    "    print(t_stop-t_start)"
   ]
  },
  {
   "cell_type": "code",
   "execution_count": 21,
   "id": "a6101496",
   "metadata": {
    "scrolled": false
   },
   "outputs": [
    {
     "name": "stdout",
     "output_type": "stream",
     "text": [
      "0\n",
      "1\n",
      "2\n",
      "3\n",
      "4\n",
      "5\n",
      "6\n",
      "7\n",
      "8\n",
      "9\n",
      "10\n",
      "11\n",
      "Crevasse locations: \n",
      "(10270.676691729323, 10273.182957393483)\n",
      "SIFs:\n",
      "(638782.6010336799, 602078.3775845544)\n",
      "---\n",
      "SIF Difference is -6.096253 pct over 2.506266 m\n"
     ]
    },
    {
     "data": {
      "image/png": "[encoded data removed]",
      "text/plain": [
       "<Figure size 432x288 with 1 Axes>"
      ]
     },
     "metadata": {
      "needs_background": "light"
     },
     "output_type": "display_data"
    }
   ],
   "source": [
    "fig,ax1=plt.subplots()\n",
    "ax1.plot(phases,np.array(KI[0])/1e6,'-o',label='Coarse SIF iteration  @ 10643m')\n",
    "# ax2 = ax1.twinx()\n",
    "# ax2.plot(phases,np.array(KII[0])/1e6,'-r')\n",
    "\n",
    "ax1.plot(phases,np.array(KI[1])/1e6,'-o',label='Coarse SIF iteration  @ 10655m')\n",
    "# ax2.plot(phases,np.array(KII[1])/1e6,'--r')\n",
    "\n",
    "for i in np.arange(12):\n",
    "    ax1.plot(test[i][0],test[i][1]/1e6,'s')\n",
    "    print(i)\n",
    "\n",
    "\n",
    "recalculated_sifs=(test_4505[1],test_4510[1])\n",
    "\n",
    "print('Crevasse locations: ')\n",
    "print(crevasse_locations)\n",
    "print('SIFs:')\n",
    "print(recalculated_sifs)\n",
    "print('---')\n",
    "print('SIF Difference is %f pct over %f m'%(100*np.diff(recalculated_sifs)/recalculated_sifs[1],\n",
    "                                         np.diff(crevasse_locations)))"
   ]
  },
  {
   "cell_type": "code",
   "execution_count": 27,
   "id": "22210a99",
   "metadata": {},
   "outputs": [
    {
     "data": {
      "image/png": "[encoded data removed]",
      "text/plain": [
       "<Figure size 432x288 with 1 Axes>"
      ]
     },
     "metadata": {
      "needs_background": "light"
     },
     "output_type": "display_data"
    }
   ],
   "source": [
    "for i in np.arange(ntest):\n",
    "    plt.plot(test_locations[i],test[i][1]/1e6,'s')"
   ]
  },
  {
   "cell_type": "markdown",
   "id": "87f835e6",
   "metadata": {},
   "source": [
    "# The function c.find_max_phase() seems to work as intended.\n",
    "i.e., it is plausible that in the above plot, the squares represent the minima of the two curves.\n",
    "\n",
    "The problem, however, is that the first plot (fourth cell, above) apparently shows different values at the point 10643m.  That plot shows the value of KI to be near 480e3 but running the calculation directly gives the value near 580e3.\n",
    "\n",
    "The problem must be in c.call_pmap()"
   ]
  },
  {
   "cell_type": "code",
   "execution_count": 8,
   "id": "036ffb4d",
   "metadata": {},
   "outputs": [
    {
     "ename": "NameError",
     "evalue": "name 'Lcs_swell' is not defined",
     "output_type": "error",
     "traceback": [
      "\u001b[0;31m---------------------------------------------------------------------------\u001b[0m",
      "\u001b[0;31mNameError\u001b[0m                                 Traceback (most recent call last)",
      "\u001b[0;32m/tmp/ipykernel_24790/2823073004.py\u001b[0m in \u001b[0;36m<module>\u001b[0;34m\u001b[0m\n\u001b[1;32m     28\u001b[0m \u001b[0;34m\u001b[0m\u001b[0m\n\u001b[1;32m     29\u001b[0m \u001b[0mplt\u001b[0m\u001b[0;34m.\u001b[0m\u001b[0msubplots\u001b[0m\u001b[0;34m(\u001b[0m\u001b[0mfigsize\u001b[0m\u001b[0;34m=\u001b[0m\u001b[0;34m(\u001b[0m\u001b[0;36m10\u001b[0m\u001b[0;34m,\u001b[0m\u001b[0;36m5\u001b[0m\u001b[0;34m)\u001b[0m\u001b[0;34m)\u001b[0m\u001b[0;34m\u001b[0m\u001b[0;34m\u001b[0m\u001b[0m\n\u001b[0;32m---> 30\u001b[0;31m \u001b[0mplt\u001b[0m\u001b[0;34m.\u001b[0m\u001b[0mplot\u001b[0m\u001b[0;34m(\u001b[0m\u001b[0mLcs_swell\u001b[0m\u001b[0;34m,\u001b[0m\u001b[0mnp\u001b[0m\u001b[0;34m.\u001b[0m\u001b[0marray\u001b[0m\u001b[0;34m(\u001b[0m\u001b[0moutput\u001b[0m\u001b[0;34m[\u001b[0m\u001b[0;36m0\u001b[0m\u001b[0;34m]\u001b[0m\u001b[0;34m)\u001b[0m\u001b[0;34m[\u001b[0m\u001b[0;34m:\u001b[0m\u001b[0;34m,\u001b[0m\u001b[0;36m1\u001b[0m\u001b[0;34m]\u001b[0m\u001b[0;34m)\u001b[0m\u001b[0;34m\u001b[0m\u001b[0;34m\u001b[0m\u001b[0m\n\u001b[0m\u001b[1;32m     31\u001b[0m \u001b[0mplt\u001b[0m\u001b[0;34m.\u001b[0m\u001b[0mplot\u001b[0m\u001b[0;34m(\u001b[0m\u001b[0mLcs_swell_zoom2\u001b[0m\u001b[0;34m,\u001b[0m\u001b[0mnp\u001b[0m\u001b[0;34m.\u001b[0m\u001b[0marray\u001b[0m\u001b[0;34m(\u001b[0m\u001b[0moutput_zoom_96b\u001b[0m\u001b[0;34m)\u001b[0m\u001b[0;34m[\u001b[0m\u001b[0;34m:\u001b[0m\u001b[0;34m,\u001b[0m\u001b[0;36m1\u001b[0m\u001b[0;34m]\u001b[0m\u001b[0;34m,\u001b[0m\u001b[0;34m'-'\u001b[0m\u001b[0;34m)\u001b[0m\u001b[0;34m\u001b[0m\u001b[0;34m\u001b[0m\u001b[0m\n\u001b[1;32m     32\u001b[0m \u001b[0mplt\u001b[0m\u001b[0;34m.\u001b[0m\u001b[0mplot\u001b[0m\u001b[0;34m(\u001b[0m\u001b[0mLcs_swell_zoom\u001b[0m\u001b[0;34m,\u001b[0m\u001b[0mnp\u001b[0m\u001b[0;34m.\u001b[0m\u001b[0marray\u001b[0m\u001b[0;34m(\u001b[0m\u001b[0moutput_zoom_96\u001b[0m\u001b[0;34m)\u001b[0m\u001b[0;34m[\u001b[0m\u001b[0;34m:\u001b[0m\u001b[0;34m,\u001b[0m\u001b[0;36m1\u001b[0m\u001b[0;34m]\u001b[0m\u001b[0;34m,\u001b[0m\u001b[0;34m'--'\u001b[0m\u001b[0;34m)\u001b[0m\u001b[0;34m\u001b[0m\u001b[0;34m\u001b[0m\u001b[0m\n",
      "\u001b[0;31mNameError\u001b[0m: name 'Lcs_swell' is not defined"
     ]
    },
    {
     "data": {
      "image/png": "[encoded data removed]",
      "text/plain": [
       "<Figure size 720x360 with 1 Axes>"
      ]
     },
     "metadata": {
      "needs_background": "light"
     },
     "output_type": "display_data"
    }
   ],
   "source": [
    "# The code to calculate swell sifs has been moved to run_crevasse_simulations.py\n",
    "\n",
    "with open('swell-sifs-high-res-linear.pkl', 'rb') as f:\n",
    "    output = pickle.load(f)\n",
    "    \n",
    "with open('test-10635-to-10660-96-cores-192-points.pkl', 'rb') as f:\n",
    "    output_zoom_96b = pickle.load(f)\n",
    "    \n",
    "with open('test-10635-to-10660-96-cores.pkl', 'rb') as f:\n",
    "    output_zoom_96 = pickle.load(f)\n",
    "    \n",
    "with open('test-10000-to-11000-96-cores.pkl','rb') as f:\n",
    "    output_1000 = pickle.load(f)\n",
    "    \n",
    "with open('test-9000-to-11000.pkl','rb') as f:\n",
    "    output_2000 = pickle.load(f)    \n",
    "    \n",
    "with open('test-7000-to-11000.pkl','rb') as f:\n",
    "    output_4000 = pickle.load(f)    \n",
    "\n",
    "Lcs_swell_zoom = np.linspace(10635,10660,96)\n",
    "Lcs_swell_zoom2 = np.linspace(10635,10660,192)\n",
    "Lcs_swell_100 = np.linspace(10600,10700,192)\n",
    "Lcs_swell_1000 = np.linspace(10000,11000,400)\n",
    "Lcs_swell_2000 = np.linspace(9000,11000,400)\n",
    "Lcs_swell_4000 = np.linspace(7000,11000,400)\n",
    "\n",
    "\n",
    "plt.subplots(figsize=(10,5))\n",
    "plt.plot(Lcs_swell,np.array(output[0])[:,1])\n",
    "plt.plot(Lcs_swell_zoom2,np.array(output_zoom_96b)[:,1],'-')\n",
    "plt.plot(Lcs_swell_zoom,np.array(output_zoom_96)[:,1],'--')\n",
    "plt.plot(Lcs_swell_1000,np.array(output_1000)[:,1],'o',markersize=10)\n",
    "plt.plot(Lcs_swell_2000,np.array(output_2000)[:,1],'o')\n",
    "plt.plot(Lcs_swell_4000,np.array(output_4000)[:,1],'-')\n",
    "plt.xlim([10500,10800])\n",
    "plt.ylim([450e3,650e3])\n",
    "plt.ylabel('SIF')\n",
    "plt.xlabel('Distance from front (m)')\n",
    "\n",
    "crevasse_locations = (Lcs_swell[4505],Lcs_swell[4510])\n",
    "questionable_sifs = (np.array(output[0])[4505,1],np.array(output[0])[4510,1])\n",
    "plt.plot(crevasse_locations,questionable_sifs,'s')"
   ]
  },
  {
   "cell_type": "code",
   "execution_count": null,
   "id": "95569059",
   "metadata": {},
   "outputs": [],
   "source": [
    "fig,ax=plt.subplots()\n",
    "plt.plot(Lcs_swell_1000,np.array(output_1000)[:,1],'ok')\n",
    "ax2=plt.twinx(ax)\n",
    "ax2.plot(Lcs_swell_1000,np.array(output_1000)[:,0],'or')\n",
    "plt.xlim([10500,10800])"
   ]
  },
  {
   "cell_type": "code",
   "execution_count": null,
   "id": "346bb8bf",
   "metadata": {},
   "outputs": [],
   "source": [
    "Lcs_swell_1000"
   ]
  },
  {
   "cell_type": "code",
   "execution_count": null,
   "id": "d5414277",
   "metadata": {},
   "outputs": [],
   "source": []
  }
 ],
 "metadata": {
  "kernelspec": {
   "display_name": "Python (FEniCS)",
   "language": "python",
   "name": "fenicsproject"
  },
  "language_info": {
   "codemirror_mode": {
    "name": "ipython",
    "version": 3
   },
   "file_extension": ".py",
   "mimetype": "text/x-python",
   "name": "python",
   "nbconvert_exporter": "python",
   "pygments_lexer": "ipython3",
   "version": "3.9.6"
  }
 },
 "nbformat": 4,
 "nbformat_minor": 5
}
