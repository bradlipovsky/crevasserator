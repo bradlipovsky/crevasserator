{
 "cells": [
  {
   "cell_type": "code",
   "execution_count": null,
   "id": "720126b7",
   "metadata": {},
   "outputs": [],
   "source": [
    "# So we need to calculate"
   ]
  }
 ],
 "metadata": {
  "kernelspec": {
   "display_name": "Python (FEniCS)",
   "language": "python",
   "name": "fenicsproject"
  },
  "language_info": {
   "codemirror_mode": {
    "name": "ipython",
    "version": 3
   },
   "file_extension": ".py",
   "mimetype": "text/x-python",
   "name": "python",
   "nbconvert_exporter": "python",
   "pygments_lexer": "ipython3",
   "version": "3.9.6"
  }
 },
 "nbformat": 4,
 "nbformat_minor": 5
}
